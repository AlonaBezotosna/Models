{
 "cells": [
  {
   "cell_type": "code",
   "execution_count": 1,
   "id": "5cf7cdcf",
   "metadata": {},
   "outputs": [
    {
     "name": "stdout",
     "output_type": "stream",
     "text": [
      "{2: [-1]}\n"
     ]
    }
   ],
   "source": [
    "# Напишите функцию update_dictionary(d, key, value), которая принимает на вход словарь dd и два числа: keykey и valuevalue\n",
    "#1 - Если ключ key есть в словаре d, то добавьте значение value в список, который хранится по этому ключу\n",
    "#2 - Если ключа key нет в словаре, то нужно добавить значение в список по ключу 2 * key.\n",
    "#3 - Если и ключа 2 *key нет, то нужно добавить ключ 2 * key в словарь\n",
    "def update_dictionary(d, key, value):\n",
    "    if key in d:\n",
    "        d[key]+=[value]\n",
    "    elif 2*key in d:\n",
    "        d[2*key]+=[value]\n",
    "    else:\n",
    "         d[2*key]=[value]\n",
    "d = {}\n",
    "update_dictionary(d, 1, -1) \n",
    "print(d)  "
   ]
  },
  {
   "cell_type": "code",
   "execution_count": null,
   "id": "88c57ad5",
   "metadata": {},
   "outputs": [],
   "source": []
  }
 ],
 "metadata": {
  "kernelspec": {
   "display_name": "Python 3 (ipykernel)",
   "language": "python",
   "name": "python3"
  },
  "language_info": {
   "codemirror_mode": {
    "name": "ipython",
    "version": 3
   },
   "file_extension": ".py",
   "mimetype": "text/x-python",
   "name": "python",
   "nbconvert_exporter": "python",
   "pygments_lexer": "ipython3",
   "version": "3.10.5"
  }
 },
 "nbformat": 4,
 "nbformat_minor": 5
}
